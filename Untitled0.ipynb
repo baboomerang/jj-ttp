{
  "nbformat": 4,
  "nbformat_minor": 0,
  "metadata": {
    "colab": {
      "name": "Untitled0.ipynb",
      "provenance": [],
      "collapsed_sections": [
        "Tm5MuG5P0OiW",
        "AZogtUj-i1m_"
      ],
      "authorship_tag": "ABX9TyP95QptzNFTixTEfjzCMv1K",
      "include_colab_link": true
    },
    "kernelspec": {
      "name": "python3",
      "display_name": "Python 3"
    },
    "language_info": {
      "name": "python"
    }
  },
  "cells": [
    {
      "cell_type": "markdown",
      "metadata": {
        "id": "view-in-github",
        "colab_type": "text"
      },
      "source": [
        "<a href=\"https://colab.research.google.com/github/baboomerang/jj-ttp/blob/main/Untitled0.ipynb\" target=\"_parent\"><img src=\"https://colab.research.google.com/assets/colab-badge.svg\" alt=\"Open In Colab\"/></a>"
      ]
    },
    {
      "cell_type": "markdown",
      "source": [
        "# Hello Python"
      ],
      "metadata": {
        "id": "Tm5MuG5P0OiW"
      }
    },
    {
      "cell_type": "code",
      "execution_count": 1,
      "metadata": {
        "colab": {
          "base_uri": "https://localhost:8080/"
        },
        "id": "3g5z8jBNg1Wx",
        "outputId": "e8fd9c9d-f21f-4fd9-b882-381b34f85d0c"
      },
      "outputs": [
        {
          "output_type": "stream",
          "name": "stdout",
          "text": [
            "Hello World!\n"
          ]
        }
      ],
      "source": [
        "print('Hello World!')"
      ]
    },
    {
      "cell_type": "markdown",
      "source": [
        "# String Basics"
      ],
      "metadata": {
        "id": "AZogtUj-i1m_"
      }
    },
    {
      "cell_type": "code",
      "source": [
        "'This is a string'"
      ],
      "metadata": {
        "colab": {
          "base_uri": "https://localhost:8080/",
          "height": 37
        },
        "id": "hK-ObMd30rLV",
        "outputId": "170304b1-4db1-4452-b828-2c39b8982643"
      },
      "execution_count": 2,
      "outputs": [
        {
          "output_type": "execute_result",
          "data": {
            "application/vnd.google.colaboratory.intrinsic+json": {
              "type": "string"
            },
            "text/plain": [
              "'This is a string'"
            ]
          },
          "metadata": {},
          "execution_count": 2
        }
      ]
    },
    {
      "cell_type": "code",
      "source": [
        "'Test String 2'"
      ],
      "metadata": {
        "colab": {
          "base_uri": "https://localhost:8080/",
          "height": 37
        },
        "id": "60AHT3Vx0tS6",
        "outputId": "c3fa8757-0b5b-4b7b-a585-a380a56f08fa"
      },
      "execution_count": 3,
      "outputs": [
        {
          "output_type": "execute_result",
          "data": {
            "application/vnd.google.colaboratory.intrinsic+json": {
              "type": "string"
            },
            "text/plain": [
              "'Test String 2'"
            ]
          },
          "metadata": {},
          "execution_count": 3
        }
      ]
    },
    {
      "cell_type": "code",
      "source": [
        "'Test String 3'"
      ],
      "metadata": {
        "colab": {
          "base_uri": "https://localhost:8080/",
          "height": 37
        },
        "id": "tmP1jUDE0v1J",
        "outputId": "10d1a0c4-4c9e-4421-b110-90cf09a9a2f8"
      },
      "execution_count": 4,
      "outputs": [
        {
          "output_type": "execute_result",
          "data": {
            "application/vnd.google.colaboratory.intrinsic+json": {
              "type": "string"
            },
            "text/plain": [
              "'Test String 3'"
            ]
          },
          "metadata": {},
          "execution_count": 4
        }
      ]
    },
    {
      "cell_type": "code",
      "source": [
        "'Test String 4'"
      ],
      "metadata": {
        "colab": {
          "base_uri": "https://localhost:8080/",
          "height": 37
        },
        "id": "Sjq-463k0yxY",
        "outputId": "2b30938f-d26a-491d-8766-5ff003bb728e"
      },
      "execution_count": 5,
      "outputs": [
        {
          "output_type": "execute_result",
          "data": {
            "application/vnd.google.colaboratory.intrinsic+json": {
              "type": "string"
            },
            "text/plain": [
              "'Test String 4'"
            ]
          },
          "metadata": {},
          "execution_count": 5
        }
      ]
    },
    {
      "cell_type": "code",
      "source": [
        "len('This is a sample string with a length of 39')"
      ],
      "metadata": {
        "colab": {
          "base_uri": "https://localhost:8080/"
        },
        "id": "C14EACa103AI",
        "outputId": "51767a12-eabf-426c-974a-02e1bd2deddf"
      },
      "execution_count": 6,
      "outputs": [
        {
          "output_type": "execute_result",
          "data": {
            "text/plain": [
              "43"
            ]
          },
          "metadata": {},
          "execution_count": 6
        }
      ]
    },
    {
      "cell_type": "markdown",
      "source": [
        "# String Indexing"
      ],
      "metadata": {
        "id": "Byw-fG4p1mOy"
      }
    },
    {
      "cell_type": "code",
      "source": [
        "s = \"Test string again\""
      ],
      "metadata": {
        "id": "QwsPMXCQ76XL"
      },
      "execution_count": 7,
      "outputs": []
    },
    {
      "cell_type": "code",
      "source": [
        "# Print the object\n",
        "print(s)"
      ],
      "metadata": {
        "colab": {
          "base_uri": "https://localhost:8080/"
        },
        "id": "m8p71Sl57zHh",
        "outputId": "06bc045e-c6fa-4599-b6c0-5a181a29f70c"
      },
      "execution_count": 8,
      "outputs": [
        {
          "output_type": "stream",
          "name": "stdout",
          "text": [
            "Test string again\n"
          ]
        }
      ]
    },
    {
      "cell_type": "code",
      "source": [
        "# Show first element\n",
        "s[0]"
      ],
      "metadata": {
        "colab": {
          "base_uri": "https://localhost:8080/",
          "height": 37
        },
        "id": "91HV-UZa72Dt",
        "outputId": "bf0b9d83-40d4-48d3-9840-9bd2aebd81e9"
      },
      "execution_count": 9,
      "outputs": [
        {
          "output_type": "execute_result",
          "data": {
            "application/vnd.google.colaboratory.intrinsic+json": {
              "type": "string"
            },
            "text/plain": [
              "'T'"
            ]
          },
          "metadata": {},
          "execution_count": 9
        }
      ]
    },
    {
      "cell_type": "code",
      "source": [
        "# Show second element\n",
        "s[1]"
      ],
      "metadata": {
        "colab": {
          "base_uri": "https://localhost:8080/",
          "height": 37
        },
        "id": "h_BeDSBh8C9E",
        "outputId": "8ac13f39-d18f-4bce-f303-831441630ac9"
      },
      "execution_count": 10,
      "outputs": [
        {
          "output_type": "execute_result",
          "data": {
            "application/vnd.google.colaboratory.intrinsic+json": {
              "type": "string"
            },
            "text/plain": [
              "'e'"
            ]
          },
          "metadata": {},
          "execution_count": 10
        }
      ]
    },
    {
      "cell_type": "code",
      "source": [
        "# Print each letter on a separate line\n",
        "for x in s:\n",
        "  print(x)"
      ],
      "metadata": {
        "colab": {
          "base_uri": "https://localhost:8080/"
        },
        "id": "jnCZQKgH8GS0",
        "outputId": "d4a17464-1285-473f-ce64-33c2aabdb2da"
      },
      "execution_count": 11,
      "outputs": [
        {
          "output_type": "stream",
          "name": "stdout",
          "text": [
            "T\n",
            "e\n",
            "s\n",
            "t\n",
            " \n",
            "s\n",
            "t\n",
            "r\n",
            "i\n",
            "n\n",
            "g\n",
            " \n",
            "a\n",
            "g\n",
            "a\n",
            "i\n",
            "n\n"
          ]
        }
      ]
    },
    {
      "cell_type": "code",
      "source": [
        "for x in range(0, len(s)):\n",
        "  print(s[x] + \"----\")"
      ],
      "metadata": {
        "colab": {
          "base_uri": "https://localhost:8080/"
        },
        "id": "rPYiQXH78fBS",
        "outputId": "93a8a0fc-d761-499d-f3e7-d0bf0e6b08c4"
      },
      "execution_count": 12,
      "outputs": [
        {
          "output_type": "stream",
          "name": "stdout",
          "text": [
            "T----\n",
            "e----\n",
            "s----\n",
            "t----\n",
            " ----\n",
            "s----\n",
            "t----\n",
            "r----\n",
            "i----\n",
            "n----\n",
            "g----\n",
            " ----\n",
            "a----\n",
            "g----\n",
            "a----\n",
            "i----\n",
            "n----\n"
          ]
        }
      ]
    },
    {
      "cell_type": "markdown",
      "source": [
        "## Concatenation of Strings"
      ],
      "metadata": {
        "id": "DbHfSheL8-od"
      }
    },
    {
      "cell_type": "code",
      "source": [
        "first = \"Test\"\n",
        "second = \"Concatenated String\"\n",
        "print(first + second)\n",
        "print(first + ' | ' + second)"
      ],
      "metadata": {
        "colab": {
          "base_uri": "https://localhost:8080/"
        },
        "id": "kJ33o-1KcTnp",
        "outputId": "4c9e6c76-b057-419c-d680-8d506b023353"
      },
      "execution_count": 15,
      "outputs": [
        {
          "output_type": "stream",
          "name": "stdout",
          "text": [
            "TestConcatenated String\n",
            "Test | Concatenated String\n"
          ]
        }
      ]
    },
    {
      "cell_type": "code",
      "source": [
        "\"\"\"\n",
        "Tasks:\n",
        "    1. Ask the user for their name, age, and city.\n",
        "    2. Print out a greeting for it.\n",
        "\"\"\"\n",
        "\n",
        "name = input(\"What is your name?: \")\n",
        "age = input(\"What is your age?: \")\n",
        "city = input(\"What is your city?: \")\n",
        "greeting = \"Welcome\"\n",
        "\n",
        "print(\"{} {} so you are {} years old and you are in {}\".format(greeting, name, age, city))"
      ],
      "metadata": {
        "colab": {
          "base_uri": "https://localhost:8080/"
        },
        "id": "cqakex5-cXcw",
        "outputId": "7b7b1ac5-f2d6-4434-93d6-2e3122397d97"
      },
      "execution_count": 19,
      "outputs": [
        {
          "output_type": "stream",
          "name": "stdout",
          "text": [
            "What is your name?: test\n",
            "What is your age?: 123\n",
            "What is your city?: nyc\n",
            "Welcome test so you are 123 years old and you are in nyc\n"
          ]
        }
      ]
    },
    {
      "cell_type": "code",
      "source": [
        "a = 525\n",
        "print(a)"
      ],
      "metadata": {
        "colab": {
          "base_uri": "https://localhost:8080/"
        },
        "id": "QUS-ZmTLez5u",
        "outputId": "ccd61913-6a7f-4d65-eabb-7cdde728ff04"
      },
      "execution_count": 20,
      "outputs": [
        {
          "output_type": "stream",
          "name": "stdout",
          "text": [
            "525\n"
          ]
        }
      ]
    },
    {
      "cell_type": "code",
      "source": [
        "b = 123\n",
        "print(b)"
      ],
      "metadata": {
        "colab": {
          "base_uri": "https://localhost:8080/"
        },
        "id": "c8P3SZtwkEvV",
        "outputId": "a4ca57d2-0e0e-493e-9a0b-d9b0228b6166"
      },
      "execution_count": 22,
      "outputs": [
        {
          "output_type": "stream",
          "name": "stdout",
          "text": [
            "123\n"
          ]
        }
      ]
    },
    {
      "cell_type": "code",
      "source": [
        "print(a + b)\n",
        "print(a * b)\n",
        "print(a - b)\n",
        "print(a / b)\n",
        "print(a // b)\n",
        "print(a >> b)\n",
        "print(a << b)"
      ],
      "metadata": {
        "colab": {
          "base_uri": "https://localhost:8080/"
        },
        "id": "S0A5hT9hkF9U",
        "outputId": "05f96361-40e8-4d2c-db4a-5059e3061aa7"
      },
      "execution_count": 31,
      "outputs": [
        {
          "output_type": "stream",
          "name": "stdout",
          "text": [
            "648\n",
            "64575\n",
            "402\n",
            "4.2682926829268295\n",
            "4\n",
            "0\n",
            "5582757582296646666195989653177447219200\n"
          ]
        }
      ]
    },
    {
      "cell_type": "code",
      "source": [
        ""
      ],
      "metadata": {
        "id": "kOXSBbT7kkQh"
      },
      "execution_count": null,
      "outputs": []
    }
  ]
}