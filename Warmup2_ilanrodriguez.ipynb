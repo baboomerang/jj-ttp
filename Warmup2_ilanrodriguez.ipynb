{
  "nbformat": 4,
  "nbformat_minor": 0,
  "metadata": {
    "colab": {
      "name": "Warmup2-ilanrodriguez.ipynb",
      "provenance": [],
      "authorship_tag": "ABX9TyPDcaLwiypLZYyz2xm8n2XM",
      "include_colab_link": true
    },
    "kernelspec": {
      "name": "python3",
      "display_name": "Python 3"
    },
    "language_info": {
      "name": "python"
    }
  },
  "cells": [
    {
      "cell_type": "markdown",
      "metadata": {
        "id": "view-in-github",
        "colab_type": "text"
      },
      "source": [
        "<a href=\"https://colab.research.google.com/github/baboomerang/jj-ttp/blob/main/Warmup2_ilanrodriguez.ipynb\" target=\"_parent\"><img src=\"https://colab.research.google.com/assets/colab-badge.svg\" alt=\"Open In Colab\"/></a>"
      ]
    },
    {
      "cell_type": "code",
      "execution_count": 1,
      "metadata": {
        "id": "m39pKxXL7kMJ"
      },
      "outputs": [],
      "source": [
        "# Create a list that holds 5 data variables\n",
        "list1 = [\"Test String\", 355/133, 1, (23,32), []] # This list holds 5 different data types: String, Float, Int, Tuple, and List\n"
      ]
    },
    {
      "cell_type": "code",
      "source": [
        ""
      ],
      "metadata": {
        "colab": {
          "base_uri": "https://localhost:8080/"
        },
        "id": "oon9xLlg8qsV",
        "outputId": "e8903d89-e239-4103-e5c0-380fcc95d526"
      },
      "execution_count": 2,
      "outputs": [
        {
          "output_type": "execute_result",
          "data": {
            "text/plain": [
              "['Test String', 2.669172932330827, 1, (23, 32), []]"
            ]
          },
          "metadata": {},
          "execution_count": 2
        }
      ]
    },
    {
      "cell_type": "code",
      "source": [
        ""
      ],
      "metadata": {
        "id": "yeOtf9Bi8sz0"
      },
      "execution_count": null,
      "outputs": []
    }
  ]
}