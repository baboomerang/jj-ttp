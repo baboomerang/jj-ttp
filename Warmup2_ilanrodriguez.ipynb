{
  "nbformat": 4,
  "nbformat_minor": 0,
  "metadata": {
    "colab": {
      "name": "Warmup2-ilanrodriguez.ipynb",
      "provenance": [],
      "collapsed_sections": [],
      "authorship_tag": "ABX9TyM1MMOeo7LFs8iUHWv9oyDR",
      "include_colab_link": true
    },
    "kernelspec": {
      "name": "python3",
      "display_name": "Python 3"
    },
    "language_info": {
      "name": "python"
    }
  },
  "cells": [
    {
      "cell_type": "markdown",
      "metadata": {
        "id": "view-in-github",
        "colab_type": "text"
      },
      "source": [
        "<a href=\"https://colab.research.google.com/github/baboomerang/jj-ttp/blob/main/Warmup2_ilanrodriguez.ipynb\" target=\"_parent\"><img src=\"https://colab.research.google.com/assets/colab-badge.svg\" alt=\"Open In Colab\"/></a>"
      ]
    },
    {
      "cell_type": "code",
      "execution_count": 9,
      "metadata": {
        "colab": {
          "base_uri": "https://localhost:8080/"
        },
        "id": "m39pKxXL7kMJ",
        "outputId": "95f567db-2bc6-48f0-cbe0-6835f50b5d8b"
      },
      "outputs": [
        {
          "output_type": "stream",
          "name": "stdout",
          "text": [
            "<class 'str'>\n",
            "<class 'float'>\n",
            "<class 'int'>\n",
            "<class 'tuple'>\n",
            "<class 'list'>\n"
          ]
        }
      ],
      "source": [
        "# Create a list that holds 5 data variables\n",
        "list1 = [\"Test String\", 355/133, 1, (23,32), []] # This list holds 5 different data types: String, Float, Int, Tuple, and List\n",
        "\n",
        "# This for loop gets each object in the list and prints its type\n",
        "for x in list1:\n",
        "  print(type(x))"
      ]
    },
    {
      "cell_type": "code",
      "source": [
        "# Create a list that holds 10 values\n",
        "list2 = [123/123, 321/321, 515*12512321, 4, 5^5, 55555, True, False, 1, 0] # This list holds 10 different values\n",
        "\n",
        "# Verify that the list has 10 values by printing out the size of the list\n",
        "len(list2)"
      ],
      "metadata": {
        "colab": {
          "base_uri": "https://localhost:8080/"
        },
        "id": "yeOtf9Bi8sz0",
        "outputId": "c08b4013-5990-47e5-ee97-2b7d34b595bc"
      },
      "execution_count": 10,
      "outputs": [
        {
          "output_type": "execute_result",
          "data": {
            "text/plain": [
              "10"
            ]
          },
          "metadata": {},
          "execution_count": 10
        }
      ]
    },
    {
      "cell_type": "code",
      "source": [
        "# Create a simple dictionary that stores 2 variables, for example: first and last name.\n",
        "# Print out those variables stored in your previous dictionary.\n",
        "\n",
        "dict1 = {'firstname':'lastname'}\n",
        "print(dict1['firstname'])"
      ],
      "metadata": {
        "colab": {
          "base_uri": "https://localhost:8080/"
        },
        "id": "JeaRrwCK9fUn",
        "outputId": "3311da12-06a5-41a8-e868-18886fa09c2b"
      },
      "execution_count": 13,
      "outputs": [
        {
          "output_type": "stream",
          "name": "stdout",
          "text": [
            "lastname\n"
          ]
        }
      ]
    },
    {
      "cell_type": "code",
      "source": [
        "# Add a message to those variables on printing: for example: “Hello, firstname lastname!”\n",
        "print(f\"Welcome to Google collab, {'firstname'} {dict1['firstname']}!\")"
      ],
      "metadata": {
        "colab": {
          "base_uri": "https://localhost:8080/"
        },
        "id": "EoMmDRq--zQU",
        "outputId": "0e660ec6-74f6-463a-f89c-89262b379cf2"
      },
      "execution_count": 15,
      "outputs": [
        {
          "output_type": "stream",
          "name": "stdout",
          "text": [
            "Welcome to Google collab, firstname lastname!\n"
          ]
        }
      ]
    },
    {
      "cell_type": "code",
      "source": [
        "# Create a dictionary that holds 2 key: value pairs:\n",
        "dict2 = {'firstkey':5, 'secondkey':120310313}\n",
        "\n",
        "# Look through the dictionary and print each pair\n",
        "for x in dict2:\n",
        "  print(f\"Dictionary key: {x} Value: {dict2[x]}\")"
      ],
      "metadata": {
        "colab": {
          "base_uri": "https://localhost:8080/"
        },
        "id": "naC_i-aO_pVm",
        "outputId": "b39d065d-20c9-45f4-aae5-38d321e68e48"
      },
      "execution_count": 17,
      "outputs": [
        {
          "output_type": "stream",
          "name": "stdout",
          "text": [
            "Dictionary key: firstkey Value: 5\n",
            "Dictionary key: secondkey Value: 120310313\n"
          ]
        }
      ]
    },
    {
      "cell_type": "code",
      "source": [
        "# Create a nested dictionary containing three dictionaries – these dictionaries could be anything (favorite pets, travel locations, etc.)\n",
        "dict3 = {'states':{'ny':{'bronx':1, 'manhattan':2, 'queens':3}, 'nj':'newbrunswick'}, 'countries':'usa'}\n",
        "dict3"
      ],
      "metadata": {
        "colab": {
          "base_uri": "https://localhost:8080/"
        },
        "id": "GUV7pJUYAKNa",
        "outputId": "0b7fd318-d75a-470f-e401-f89fc7356e66"
      },
      "execution_count": 42,
      "outputs": [
        {
          "output_type": "execute_result",
          "data": {
            "text/plain": [
              "{'countries': 'usa',\n",
              " 'states': {'nj': 'newbrunswick',\n",
              "  'ny': {'bronx': 1, 'manhattan': 2, 'queens': 3}}}"
            ]
          },
          "metadata": {},
          "execution_count": 42
        }
      ]
    },
    {
      "cell_type": "code",
      "source": [
        "# Loop through the dictionaries and print a message for each.\n",
        "for x,y in dict3.items():       # Get each key:value tuple and bind them to x and y variables\n",
        "  print(f\"this is key: {x}\")    # Print each key\n",
        "  if type(y) == dict:           # If the type of the corresponding value is a dictionary, print a specific message that tells us its a dictionary\n",
        "    print(f\"hey, this is a dictionary, here are its contents: {y.items()}\") # Tell the user the value is a dictionary, and then print its contents\n",
        "  else:                         # If the value is not a dictionary, then print a different specific message that tells us its not a dictionary\n",
        "    print(f\"not a dictionary, this is a value: {y}\") # Tell the user the value is not a dictionary and print the value of the variable\n"
      ],
      "metadata": {
        "colab": {
          "base_uri": "https://localhost:8080/"
        },
        "id": "lmyGKqa8BMUJ",
        "outputId": "c20d9035-1b1a-4dee-dcdd-f511e7aa4df6"
      },
      "execution_count": 44,
      "outputs": [
        {
          "output_type": "stream",
          "name": "stdout",
          "text": [
            "this is key: states\n",
            "hey, this is a dictionary, here are its contents: dict_items([('ny', {'bronx': 1, 'manhattan': 2, 'queens': 3}), ('nj', 'newbrunswick')])\n",
            "this is key: countries\n",
            "not a dictionary, this is a value: usa\n"
          ]
        }
      ]
    },
    {
      "cell_type": "code",
      "source": [
        "# Write a program that takes a group of numbers and checks if the groups are the same or different.\n",
        "\n",
        "# This is a simple function that takes two group parameters and compares if the group types are equal\n",
        "def compare_group(group1, group2):\n",
        "  return group1 == group2          # this returns the result of the expression group1 == group2\n",
        "\n",
        "# I created 3 lists, the first two are the same and the last one is different.\n",
        "list1 = [123,123]\n",
        "list2 = [123,123]\n",
        "list3 = [1242141]\n",
        "\n",
        "print(compare_group(list1, list2)) # this prints the result of the comparison between list1 and list2\n",
        "print(compare_group(list1, list3)) # this prints the result of the comparison between list1 and list3\n",
        "print(compare_group(list2, list3)) # this prints the result of the comparison between list2 and list3\n",
        "\n",
        "# Expected output from this is that lists 1 and 2 should be equal and thus compare_groups should be equal to True\n",
        "# Any other comparison with the other lists should return False instead"
      ],
      "metadata": {
        "colab": {
          "base_uri": "https://localhost:8080/"
        },
        "id": "s8ow1Hk7Cc63",
        "outputId": "8e357524-eed9-4add-e37f-a33fea0aadf4"
      },
      "execution_count": 46,
      "outputs": [
        {
          "output_type": "stream",
          "name": "stdout",
          "text": [
            "True\n",
            "False\n",
            "False\n"
          ]
        }
      ]
    },
    {
      "cell_type": "code",
      "source": [
        "# Generate a list of 5 numbers\n",
        "\n",
        "# To generate random numbers, we need to import a pseudo-random number generator\n",
        "from random import randint\n",
        "\n",
        "# This function can create a list of random integers of a user-given size\n",
        "def generate_random_list(size):\n",
        "  result = []                         # Initialize an empty list\n",
        "  for x in range(size):               # Loop from 0 until the user-given size\n",
        "    result.append(randint(0,999999))  # Append a random integer into the list\n",
        "  return result                       # Return the copy of the reference to the created object (I am assuming it's a copy of the reference)\n",
        "\n",
        "# Initialize the \"random_list\" variable from the result of the function call\n",
        "random_list = generate_random_list(5)\n",
        "# Print the contents of the \"random_list\" variable\n",
        "print(random_list)"
      ],
      "metadata": {
        "colab": {
          "base_uri": "https://localhost:8080/"
        },
        "id": "SRFqEpzRDC-1",
        "outputId": "84b491dd-21f0-4298-b7e4-9dc83e72d79e"
      },
      "execution_count": 52,
      "outputs": [
        {
          "output_type": "stream",
          "name": "stdout",
          "text": [
            "[404026, 443694, 527855, 448539, 669807]\n"
          ]
        }
      ]
    },
    {
      "cell_type": "code",
      "source": [
        "# Write a program to create all possible combos of vowels using each vowel once.\n",
        "\n"
      ],
      "metadata": {
        "id": "dxnuBSxdDGAK"
      },
      "execution_count": 25,
      "outputs": []
    },
    {
      "cell_type": "code",
      "source": [
        "# Write a program to remove and print every third number from a list until the list is empty.\n",
        "\n",
        "list3 = [555, 6546, 531, 3431, 312, 235, 532, 3535]\n",
        "listsize = len(list3)\n",
        "\n",
        "for x in range(0, listsize):\n",
        "  print(x)\n",
        "  index = (x+3) % listsizet\n",
        "  number = list3.pop(index)\n",
        "  print(number)\n"
      ],
      "metadata": {
        "colab": {
          "base_uri": "https://localhost:8080/",
          "height": 368
        },
        "id": "m4yh6Bv_DZzI",
        "outputId": "dd2f51d9-50a3-454e-c2a0-474a56f8ea04"
      },
      "execution_count": 72,
      "outputs": [
        {
          "output_type": "stream",
          "name": "stdout",
          "text": [
            "0\n",
            "531\n",
            "1\n",
            "312\n",
            "2\n",
            "532\n",
            "3\n"
          ]
        },
        {
          "output_type": "error",
          "ename": "IndexError",
          "evalue": "ignored",
          "traceback": [
            "\u001b[0;31m---------------------------------------------------------------------------\u001b[0m",
            "\u001b[0;31mIndexError\u001b[0m                                Traceback (most recent call last)",
            "\u001b[0;32m<ipython-input-72-8307ff4facd6>\u001b[0m in \u001b[0;36m<module>\u001b[0;34m()\u001b[0m\n\u001b[1;32m      7\u001b[0m   \u001b[0mprint\u001b[0m\u001b[0;34m(\u001b[0m\u001b[0mx\u001b[0m\u001b[0;34m)\u001b[0m\u001b[0;34m\u001b[0m\u001b[0;34m\u001b[0m\u001b[0m\n\u001b[1;32m      8\u001b[0m   \u001b[0mindex\u001b[0m \u001b[0;34m=\u001b[0m \u001b[0;34m(\u001b[0m\u001b[0mx\u001b[0m\u001b[0;34m+\u001b[0m\u001b[0;36m3\u001b[0m\u001b[0;34m)\u001b[0m \u001b[0;34m%\u001b[0m \u001b[0mlistsize\u001b[0m\u001b[0;34m-\u001b[0m\u001b[0;36m1\u001b[0m\u001b[0;34m\u001b[0m\u001b[0;34m\u001b[0m\u001b[0m\n\u001b[0;32m----> 9\u001b[0;31m   \u001b[0mnumber\u001b[0m \u001b[0;34m=\u001b[0m \u001b[0mlist3\u001b[0m\u001b[0;34m.\u001b[0m\u001b[0mpop\u001b[0m\u001b[0;34m(\u001b[0m\u001b[0mindex\u001b[0m\u001b[0;34m)\u001b[0m\u001b[0;34m\u001b[0m\u001b[0;34m\u001b[0m\u001b[0m\n\u001b[0m\u001b[1;32m     10\u001b[0m   \u001b[0mprint\u001b[0m\u001b[0;34m(\u001b[0m\u001b[0mnumber\u001b[0m\u001b[0;34m)\u001b[0m\u001b[0;34m\u001b[0m\u001b[0;34m\u001b[0m\u001b[0m\n",
            "\u001b[0;31mIndexError\u001b[0m: pop index out of range"
          ]
        }
      ]
    },
    {
      "cell_type": "code",
      "source": [
        "# Write a program to print a list of 10 random numbers.\n",
        "\n",
        "# Ilan: since I created a function that can work for any arbitrary list size, I am going to reuse the earlier function I created\n",
        "from random import randint\n",
        "\n",
        "# This function can create a list of random integers of a user-given size\n",
        "def generate_random_list(size):\n",
        "  result = []                         # Initialize an empty list\n",
        "  for x in range(size):               # Loop from 0 until the user-given size\n",
        "    result.append(randint(0,999999))  # Append a random integer into the list\n",
        "  return result                       # Return the copy of the reference to the created object (I am assuming it's a copy of the reference)\n",
        "\n",
        "# This function can print out the contents of any list of an arbitrary size\n",
        "def print_list(input):\n",
        "  for element in input:\n",
        "    print(element)\n",
        "\n",
        "# Initialize a list of size 10 with random integers\n",
        "random_10_list = generate_random_list(10)\n",
        "\n",
        "# Print the elements of this list using my own print function instead of the built-in python function\n",
        "print_list(random_10_list)\n"
      ],
      "metadata": {
        "colab": {
          "base_uri": "https://localhost:8080/"
        },
        "id": "wxfHcRRoDbFP",
        "outputId": "8bc3b2df-fa01-447d-93fc-e50e4e7758c0"
      },
      "execution_count": 55,
      "outputs": [
        {
          "output_type": "stream",
          "name": "stdout",
          "text": [
            "418107\n",
            "529486\n",
            "382910\n",
            "105743\n",
            "886066\n",
            "108287\n",
            "95567\n",
            "744028\n",
            "78201\n",
            "744742\n"
          ]
        }
      ]
    },
    {
      "cell_type": "code",
      "source": [
        "# Write a program to sum up three numbers from a list.\n",
        "\n",
        "# This function takes an arbitrary list and selects 3 random elements from the list and sums them together\n",
        "def get_random_sum(input_list):\n",
        "  sum = 0                                         #initialize the variable to 0\n",
        "  for tries in range(3):                          #loop 3 times\n",
        "    random_index = randint(0, len(input_list)-1)  #choose a random index between the value 0 and the length of the list\n",
        "    sum += input_list[random_index]               #add the value stored in the list at that random index to the sum\n",
        "  return sum\n",
        "\n",
        "# Initialized a sample list with 7 integers\n",
        "list3 = [1, 2, 3, 4, 5, 6, 7]\n",
        "\n",
        "# Get the sum result from the function\n",
        "total = get_random_sum(list3)\n",
        "print(total)"
      ],
      "metadata": {
        "colab": {
          "base_uri": "https://localhost:8080/"
        },
        "id": "pQv5evR9DdGP",
        "outputId": "1b17852e-72ec-456f-a8d7-ec3bf937497d"
      },
      "execution_count": 66,
      "outputs": [
        {
          "output_type": "stream",
          "name": "stdout",
          "text": [
            "9\n"
          ]
        }
      ]
    },
    {
      "cell_type": "code",
      "source": [
        ""
      ],
      "metadata": {
        "id": "mJ08XUhDZFTQ"
      },
      "execution_count": null,
      "outputs": []
    }
  ]
}